{
  "nbformat": 4,
  "nbformat_minor": 0,
  "metadata": {
    "colab": {
      "provenance": [],
      "authorship_tag": "ABX9TyMFX+AeBpaKQLUV2BQ18jub",
      "include_colab_link": true
    },
    "kernelspec": {
      "name": "python3",
      "display_name": "Python 3"
    },
    "language_info": {
      "name": "python"
    }
  },
  "cells": [
    {
      "cell_type": "markdown",
      "metadata": {
        "id": "view-in-github",
        "colab_type": "text"
      },
      "source": [
        "<a href=\"https://colab.research.google.com/github/jyotikashyap85399-tech/Image-classification/blob/main/time_complexity.ipynb\" target=\"_parent\"><img src=\"https://colab.research.google.com/assets/colab-badge.svg\" alt=\"Open In Colab\"/></a>"
      ]
    },
    {
      "cell_type": "code",
      "execution_count": null,
      "metadata": {
        "colab": {
          "base_uri": "https://localhost:8080/"
        },
        "id": "OUcB3r7R9au4",
        "outputId": "da83d219-e7d0-408b-d569-54c791b11782"
      },
      "outputs": [
        {
          "output_type": "stream",
          "name": "stdout",
          "text": [
            "1\n",
            "2\n",
            "3\n",
            "4\n",
            "5\n",
            "6\n",
            "7\n",
            "8\n",
            "9\n",
            "10\n",
            "11\n",
            "12\n",
            "13\n",
            "14\n",
            "15\n",
            "16\n",
            "17\n",
            "18\n",
            "19\n",
            "20\n",
            "21\n",
            "22\n",
            "23\n",
            "24\n",
            "25\n",
            "26\n",
            "27\n",
            "28\n",
            "29\n",
            "30\n",
            "31\n",
            "32\n",
            "33\n",
            "34\n",
            "35\n",
            "36\n",
            "37\n",
            "38\n",
            "39\n",
            "40\n",
            "41\n",
            "42\n",
            "43\n",
            "44\n",
            "45\n",
            "46\n",
            "47\n",
            "48\n",
            "49\n",
            "50\n",
            "51\n",
            "52\n",
            "53\n",
            "54\n",
            "55\n",
            "56\n",
            "57\n",
            "58\n",
            "59\n",
            "60\n",
            "61\n",
            "62\n",
            "63\n",
            "64\n",
            "65\n",
            "66\n",
            "67\n",
            "68\n",
            "69\n",
            "70\n",
            "71\n",
            "72\n",
            "73\n",
            "74\n",
            "75\n",
            "76\n",
            "77\n",
            "78\n",
            "79\n",
            "80\n",
            "81\n",
            "82\n",
            "83\n",
            "84\n",
            "85\n",
            "86\n",
            "87\n",
            "88\n",
            "89\n",
            "90\n",
            "91\n",
            "92\n",
            "93\n",
            "94\n",
            "95\n",
            "96\n",
            "97\n",
            "98\n",
            "99\n",
            "100\n",
            "0.0003757476806640625\n"
          ]
        }
      ],
      "source": [
        "import time\n",
        "\n",
        "start = time.time()\n",
        "for i in range(1,101):\n",
        "  print(i)\n",
        "\n",
        "print(time.time()-start)"
      ]
    },
    {
      "cell_type": "code",
      "source": [
        "import time\n",
        "start = time.time()\n",
        "i=1\n",
        "while i<101:\n",
        "  print(i)\n",
        "  i+=1\n",
        "\n",
        "print(time.time()-start)"
      ],
      "metadata": {
        "colab": {
          "base_uri": "https://localhost:8080/"
        },
        "id": "HM4UWiLN9b6H",
        "outputId": "e48b824c-b23f-443c-bb64-412cd5b7bf30"
      },
      "execution_count": null,
      "outputs": [
        {
          "output_type": "stream",
          "name": "stdout",
          "text": [
            "1\n",
            "2\n",
            "3\n",
            "4\n",
            "5\n",
            "6\n",
            "7\n",
            "8\n",
            "9\n",
            "10\n",
            "11\n",
            "12\n",
            "13\n",
            "14\n",
            "15\n",
            "16\n",
            "17\n",
            "18\n",
            "19\n",
            "20\n",
            "21\n",
            "22\n",
            "23\n",
            "24\n",
            "25\n",
            "26\n",
            "27\n",
            "28\n",
            "29\n",
            "30\n",
            "31\n",
            "32\n",
            "33\n",
            "34\n",
            "35\n",
            "36\n",
            "37\n",
            "38\n",
            "39\n",
            "40\n",
            "41\n",
            "42\n",
            "43\n",
            "44\n",
            "45\n",
            "46\n",
            "47\n",
            "48\n",
            "49\n",
            "50\n",
            "51\n",
            "52\n",
            "53\n",
            "54\n",
            "55\n",
            "56\n",
            "57\n",
            "58\n",
            "59\n",
            "60\n",
            "61\n",
            "62\n",
            "63\n",
            "64\n",
            "65\n",
            "66\n",
            "67\n",
            "68\n",
            "69\n",
            "70\n",
            "71\n",
            "72\n",
            "73\n",
            "74\n",
            "75\n",
            "76\n",
            "77\n",
            "78\n",
            "79\n",
            "80\n",
            "81\n",
            "82\n",
            "83\n",
            "84\n",
            "85\n",
            "86\n",
            "87\n",
            "88\n",
            "89\n",
            "90\n",
            "91\n",
            "92\n",
            "93\n",
            "94\n",
            "95\n",
            "96\n",
            "97\n",
            "98\n",
            "99\n",
            "100\n",
            "0.0005717277526855469\n"
          ]
        }
      ]
    },
    {
      "cell_type": "code",
      "source": [
        "def mod(a,b):\n",
        "\n",
        "  if b<=0:\n",
        "    return -1\n",
        "  div = a//b\n",
        "  return a-div*b\n",
        "\n",
        "mod(5,3)"
      ],
      "metadata": {
        "colab": {
          "base_uri": "https://localhost:8080/"
        },
        "id": "wV135wq79b-D",
        "outputId": "689657a6-4e96-4d44-a367-cdaf07450018"
      },
      "execution_count": null,
      "outputs": [
        {
          "output_type": "execute_result",
          "data": {
            "text/plain": [
              "2"
            ]
          },
          "metadata": {},
          "execution_count": 7
        }
      ]
    },
    {
      "cell_type": "code",
      "source": [
        "def sum_digits(num):\n",
        "\n",
        "  sum = 0\n",
        "  while (num>0):\n",
        "    sum+=num%10\n",
        "    num//=10\n",
        "\n",
        "  return sum\n",
        "sum_digits(123)"
      ],
      "metadata": {
        "colab": {
          "base_uri": "https://localhost:8080/"
        },
        "id": "YthvcO7E9cBs",
        "outputId": "78d4cc53-b01c-458b-e4e1-ccf84ff9d2b1"
      },
      "execution_count": null,
      "outputs": [
        {
          "output_type": "execute_result",
          "data": {
            "text/plain": [
              "6"
            ]
          },
          "metadata": {},
          "execution_count": 8
        }
      ]
    },
    {
      "cell_type": "code",
      "source": [
        "import sys"
      ],
      "metadata": {
        "id": "ZVjxvvTM9cFC"
      },
      "execution_count": null,
      "outputs": []
    },
    {
      "cell_type": "code",
      "source": [
        "L = []\n",
        "\n",
        "sys.getsizeof(L)"
      ],
      "metadata": {
        "colab": {
          "base_uri": "https://localhost:8080/"
        },
        "id": "T_ph9F149cIg",
        "outputId": "e0842237-4ebc-4d68-ed49-bcf534c290aa"
      },
      "execution_count": null,
      "outputs": [
        {
          "output_type": "execute_result",
          "data": {
            "text/plain": [
              "56"
            ]
          },
          "metadata": {},
          "execution_count": 10
        }
      ]
    },
    {
      "cell_type": "code",
      "source": [],
      "metadata": {
        "id": "7iFQ65AF9cMA"
      },
      "execution_count": null,
      "outputs": []
    },
    {
      "cell_type": "code",
      "source": [
        "L.append('3')"
      ],
      "metadata": {
        "id": "qSCoVMIJjS5O"
      },
      "execution_count": null,
      "outputs": []
    },
    {
      "cell_type": "code",
      "source": [
        "L"
      ],
      "metadata": {
        "colab": {
          "base_uri": "https://localhost:8080/"
        },
        "id": "YuJTcAerjS0S",
        "outputId": "5d316307-80c1-4cf9-a8f6-7ea1ccc450f2"
      },
      "execution_count": null,
      "outputs": [
        {
          "output_type": "execute_result",
          "data": {
            "text/plain": [
              "['3']"
            ]
          },
          "metadata": {},
          "execution_count": 12
        }
      ]
    },
    {
      "cell_type": "code",
      "source": [
        "sys.getsizeof(L)"
      ],
      "metadata": {
        "colab": {
          "base_uri": "https://localhost:8080/"
        },
        "id": "gd-tgOqMjSxZ",
        "outputId": "b8267ff4-5dd4-4f1c-d87f-79b2b9cea1b5"
      },
      "execution_count": null,
      "outputs": [
        {
          "output_type": "execute_result",
          "data": {
            "text/plain": [
              "88"
            ]
          },
          "metadata": {},
          "execution_count": 13
        }
      ]
    },
    {
      "cell_type": "code",
      "source": [
        "L = []\n",
        "\n",
        "for i in range(100):\n",
        "  print(i,sys.getsizeof(L))\n",
        "  L.append(i)"
      ],
      "metadata": {
        "colab": {
          "base_uri": "https://localhost:8080/"
        },
        "id": "pYH10hYKjSuZ",
        "outputId": "c63b160d-47f5-44c1-b6f7-764ab6b3def5"
      },
      "execution_count": null,
      "outputs": [
        {
          "output_type": "stream",
          "name": "stdout",
          "text": [
            "0 56\n",
            "1 88\n",
            "2 88\n",
            "3 88\n",
            "4 88\n",
            "5 120\n",
            "6 120\n",
            "7 120\n",
            "8 120\n",
            "9 184\n",
            "10 184\n",
            "11 184\n",
            "12 184\n",
            "13 184\n",
            "14 184\n",
            "15 184\n",
            "16 184\n",
            "17 248\n",
            "18 248\n",
            "19 248\n",
            "20 248\n",
            "21 248\n",
            "22 248\n",
            "23 248\n",
            "24 248\n",
            "25 312\n",
            "26 312\n",
            "27 312\n",
            "28 312\n",
            "29 312\n",
            "30 312\n",
            "31 312\n",
            "32 312\n",
            "33 376\n",
            "34 376\n",
            "35 376\n",
            "36 376\n",
            "37 376\n",
            "38 376\n",
            "39 376\n",
            "40 376\n",
            "41 472\n",
            "42 472\n",
            "43 472\n",
            "44 472\n",
            "45 472\n",
            "46 472\n",
            "47 472\n",
            "48 472\n",
            "49 472\n",
            "50 472\n",
            "51 472\n",
            "52 472\n",
            "53 568\n",
            "54 568\n",
            "55 568\n",
            "56 568\n",
            "57 568\n",
            "58 568\n",
            "59 568\n",
            "60 568\n",
            "61 568\n",
            "62 568\n",
            "63 568\n",
            "64 568\n",
            "65 664\n",
            "66 664\n",
            "67 664\n",
            "68 664\n",
            "69 664\n",
            "70 664\n",
            "71 664\n",
            "72 664\n",
            "73 664\n",
            "74 664\n",
            "75 664\n",
            "76 664\n",
            "77 792\n",
            "78 792\n",
            "79 792\n",
            "80 792\n",
            "81 792\n",
            "82 792\n",
            "83 792\n",
            "84 792\n",
            "85 792\n",
            "86 792\n",
            "87 792\n",
            "88 792\n",
            "89 792\n",
            "90 792\n",
            "91 792\n",
            "92 792\n",
            "93 920\n",
            "94 920\n",
            "95 920\n",
            "96 920\n",
            "97 920\n",
            "98 920\n",
            "99 920\n"
          ]
        }
      ]
    },
    {
      "cell_type": "code",
      "source": [
        "import ctypes"
      ],
      "metadata": {
        "id": "79WdE7nsje-S"
      },
      "execution_count": null,
      "outputs": []
    },
    {
      "cell_type": "code",
      "source": [
        "class MeraList:\n",
        "\n",
        "  def __init__(self):\n",
        "    self.size = 1\n",
        "    self.n = 0\n",
        "\n",
        "    self.A = self.__make_array(self.size)\n",
        "\n",
        "  def __len__(self):\n",
        "    return self.n\n",
        "\n",
        "  def __str__(self):\n",
        "    result = ''\n",
        "    for i in range(self.n):\n",
        "      result = result + str(self.A[i]) + ','\n",
        "\n",
        "    return '[' + result[: -1] + ']'\n",
        "\n",
        "  def __getitem__(self,index):\n",
        "    if 0<= index < self.n:\n",
        "      return self.A[index]\n",
        "    else:\n",
        "      return 'IdexError - Index out of range'\n",
        "\n",
        "    def __delitem__(self,pos):\n",
        "      for i in range(pos,self.n-1):\n",
        "        self.A[i] = self.A[i+1]\n",
        "\n",
        "      self.n = self.n -1\n",
        "\n",
        "\n",
        "  def append(self,item):\n",
        "    if self.n == self.size:\n",
        "      #resize\n",
        "      self.__resize(self.size*2)\n",
        "\n",
        "      #append\n",
        "\n",
        "    self.A[self.n] = item\n",
        "    self.n = self.n + 1\n",
        "\n",
        "  def pop(self):\n",
        "    if self.n == 0:\n",
        "      return 'Empty list'\n",
        "\n",
        "    print(self.A[self.n-1])\n",
        "    self.n = self.n - 1\n",
        "\n",
        "  def clear(self):\n",
        "    self.n = 0\n",
        "    self.size = 1\n",
        "\n",
        "  def find(self,item):\n",
        "\n",
        "    for i in range(self.n):\n",
        "      if self.A[i] == item:\n",
        "        return i\n",
        "    return 'ValueError - not in list'\n",
        "\n",
        "  def insert(self,pos,item):\n",
        "    if 0<= pos < self.n:\n",
        "\n",
        "    if self.n == self.size:\n",
        "      self.__resize(self.size*2)\n",
        "\n",
        "    for i in (self.n,pos,-1):\n",
        "      self.A[i] = self.A[i-1]\n",
        "\n",
        "    self.A[pos] = item\n",
        "    self.n = self.n + 1\n",
        "\n",
        "  def __resize(self,new_capacity):\n",
        "    B = self.__make_array(new_capacity)\n",
        "    self.size = new_capacity\n",
        "\n",
        "    for i in range(self.n):\n",
        "      B[i] = self.A[i]\n",
        "    self.A = B\n",
        "\n",
        "  def __make_array(self,capacity):\n",
        "    return (capacity*ctypes.py_object)()\n"
      ],
      "metadata": {
        "id": "9k3ge3A_je7c"
      },
      "execution_count": null,
      "outputs": []
    },
    {
      "cell_type": "code",
      "source": [
        "L = MeraList()"
      ],
      "metadata": {
        "id": "spwkX-reje46"
      },
      "execution_count": null,
      "outputs": []
    },
    {
      "cell_type": "code",
      "source": [
        "print(L)"
      ],
      "metadata": {
        "colab": {
          "base_uri": "https://localhost:8080/"
        },
        "id": "GkEpnAY-je2R",
        "outputId": "c64e944a-edc2-4b3d-c20f-baf261b09b69"
      },
      "execution_count": null,
      "outputs": [
        {
          "output_type": "stream",
          "name": "stdout",
          "text": [
            "[]\n"
          ]
        }
      ]
    },
    {
      "cell_type": "code",
      "source": [
        "len(L)"
      ],
      "metadata": {
        "colab": {
          "base_uri": "https://localhost:8080/"
        },
        "id": "IkMDzzQEn9Go",
        "outputId": "35ee1a23-853d-4298-bee1-74c8efacd7d2"
      },
      "execution_count": null,
      "outputs": [
        {
          "output_type": "execute_result",
          "data": {
            "text/plain": [
              "0"
            ]
          },
          "metadata": {},
          "execution_count": 19
        }
      ]
    },
    {
      "cell_type": "code",
      "source": [
        "L = [10,20,30]\n",
        "len(L)"
      ],
      "metadata": {
        "colab": {
          "base_uri": "https://localhost:8080/"
        },
        "id": "oBkQY8V3jezn",
        "outputId": "09c0e9f4-1791-4fe3-a8b3-0a1e249a6343"
      },
      "execution_count": null,
      "outputs": [
        {
          "output_type": "execute_result",
          "data": {
            "text/plain": [
              "3"
            ]
          },
          "metadata": {},
          "execution_count": 20
        }
      ]
    },
    {
      "cell_type": "code",
      "source": [
        "L.append(3)"
      ],
      "metadata": {
        "id": "e0R-lhyAnftp"
      },
      "execution_count": null,
      "outputs": []
    },
    {
      "cell_type": "code",
      "source": [
        "L"
      ],
      "metadata": {
        "colab": {
          "base_uri": "https://localhost:8080/"
        },
        "id": "3Iv0UUpRnfqD",
        "outputId": "a6db0683-596a-44b2-fbdf-0c05135893dd"
      },
      "execution_count": null,
      "outputs": [
        {
          "output_type": "execute_result",
          "data": {
            "text/plain": [
              "[10, 20, 30, 3]"
            ]
          },
          "metadata": {},
          "execution_count": 22
        }
      ]
    },
    {
      "cell_type": "code",
      "source": [
        "L.append('hello')\n",
        "L.append(3.4)\n",
        "L.append(True)\n",
        "L.append(100)"
      ],
      "metadata": {
        "id": "3baajOvznfm_"
      },
      "execution_count": null,
      "outputs": []
    },
    {
      "cell_type": "code",
      "source": [
        "print(L)"
      ],
      "metadata": {
        "colab": {
          "base_uri": "https://localhost:8080/"
        },
        "id": "lTzBJQBJnfj2",
        "outputId": "a5126a85-84d6-491b-c9dd-b709462c7dd3"
      },
      "execution_count": null,
      "outputs": [
        {
          "output_type": "stream",
          "name": "stdout",
          "text": [
            "[10, 20, 30, 3, 'hello', 3.4, True, 100]\n"
          ]
        }
      ]
    },
    {
      "cell_type": "code",
      "source": [
        "L.pop()"
      ],
      "metadata": {
        "colab": {
          "base_uri": "https://localhost:8080/"
        },
        "id": "iA62LUQZnfdT",
        "outputId": "2785edfd-7c19-480b-ee69-76e8ed64dca1"
      },
      "execution_count": null,
      "outputs": [
        {
          "output_type": "execute_result",
          "data": {
            "text/plain": [
              "3.4"
            ]
          },
          "metadata": {},
          "execution_count": 33
        }
      ]
    },
    {
      "cell_type": "code",
      "source": [
        "L"
      ],
      "metadata": {
        "colab": {
          "base_uri": "https://localhost:8080/"
        },
        "id": "FI8BEPIGnfZq",
        "outputId": "dd4055c4-b8f1-49e3-bba4-6d4a113d8250"
      },
      "execution_count": null,
      "outputs": [
        {
          "output_type": "execute_result",
          "data": {
            "text/plain": [
              "[10, 20, 30, 3, 'hello']"
            ]
          },
          "metadata": {},
          "execution_count": 34
        }
      ]
    },
    {
      "cell_type": "code",
      "source": [
        "#practice\n",
        "arr = [10,20,30,40]\n",
        "max_value = max(arr)\n",
        "min_value = min(arr)\n",
        "\n",
        "print(\"max:\", max_value)\n",
        "print(\"min:\", min_value)\n"
      ],
      "metadata": {
        "colab": {
          "base_uri": "https://localhost:8080/"
        },
        "id": "zV0YpUe_nfWY",
        "outputId": "06ebe246-010d-4e3a-9398-46d63788b6dc"
      },
      "execution_count": null,
      "outputs": [
        {
          "output_type": "stream",
          "name": "stdout",
          "text": [
            "max: 40\n",
            "min: 10\n"
          ]
        }
      ]
    },
    {
      "cell_type": "code",
      "source": [
        "arr = [10,20,30,40]\n",
        "max_val = arr[0]\n",
        "min_val = arr[0]\n",
        "for x in arr:\n",
        "    if x > max_val:\n",
        "        max_val = x\n",
        "    if x < min_val:\n",
        "        min_val = x\n"
      ],
      "metadata": {
        "id": "wqPEMltNLhy_"
      },
      "execution_count": null,
      "outputs": []
    },
    {
      "cell_type": "code",
      "source": [
        "arr = [1223, 584, 76,423]\n",
        "#initialize max and min value\n",
        "\n",
        "max_value = arr[0]\n",
        "min_value = arr[0]\n",
        "for x in arr:\n",
        "    if x>max_value:\n",
        "        max_value = x\n",
        "    if x<min_value:\n",
        "        min_value = x\n",
        "\n",
        "print(\"max:\", max_value)\n",
        "print(\"min:\", min_value)"
      ],
      "metadata": {
        "colab": {
          "base_uri": "https://localhost:8080/"
        },
        "id": "dJrE9mhtLhvq",
        "outputId": "ff09c1f1-484d-4af1-d16d-de7ee6d8344b"
      },
      "execution_count": null,
      "outputs": [
        {
          "output_type": "stream",
          "name": "stdout",
          "text": [
            "max: 1223\n",
            "min: 76\n"
          ]
        }
      ]
    },
    {
      "cell_type": "code",
      "source": [
        "arr = [13245,6859,4438,2222222222223]\n",
        "total = sum(arr)\n",
        "avg = total/len(arr)\n",
        "print(\"tot:\", total)\n",
        "print(\"avg:\", avg)"
      ],
      "metadata": {
        "colab": {
          "base_uri": "https://localhost:8080/"
        },
        "id": "fALFvRbKLhru",
        "outputId": "83c6180d-6e24-4f5d-f29f-4dc60e8ee84f"
      },
      "execution_count": null,
      "outputs": [
        {
          "output_type": "stream",
          "name": "stdout",
          "text": [
            "tot: 2222222246765\n",
            "avg: 555555561691.25\n"
          ]
        }
      ]
    },
    {
      "cell_type": "code",
      "source": [
        "arr = [13245,6859,4438,2222222222223]\n",
        "total = 0\n",
        "for x in arr:\n",
        "    total+=x\n",
        "avg = total/len(arr)\n",
        "print(\"tot:\", total)\n",
        "print(\"avg:\",avg)"
      ],
      "metadata": {
        "colab": {
          "base_uri": "https://localhost:8080/"
        },
        "id": "OU6Q0Y2CLhkY",
        "outputId": "473b809b-25af-46c8-9b44-ab64ee9f1cd6"
      },
      "execution_count": null,
      "outputs": [
        {
          "output_type": "stream",
          "name": "stdout",
          "text": [
            "tot: 2222222246765\n",
            "avg: 555555561691.25\n"
          ]
        }
      ]
    },
    {
      "cell_type": "code",
      "source": [
        "arr = [213,45545,7799,4242424424,5545556]\n",
        "even_count = sum(1 for x in arr if x % 2 == 0)\n",
        "odd_count = sum(1 for x in arr if x % 2 != 0)\n",
        "print(\"even:\", even_count)\n",
        "print(\"odd:\", odd_count)"
      ],
      "metadata": {
        "id": "OEQAwXlwLheb",
        "colab": {
          "base_uri": "https://localhost:8080/"
        },
        "outputId": "4000cd44-ae64-4cac-85f4-ef678a89c900"
      },
      "execution_count": 1,
      "outputs": [
        {
          "output_type": "stream",
          "name": "stdout",
          "text": [
            "even: 2\n",
            "odd: 3\n"
          ]
        }
      ]
    },
    {
      "cell_type": "code",
      "source": [
        "arr = [13222222,468784,373464,865,987]\n",
        "arr.reverse()\n",
        "print(arr)"
      ],
      "metadata": {
        "colab": {
          "base_uri": "https://localhost:8080/"
        },
        "id": "RFmXyPOvetpy",
        "outputId": "aded3581-2e3e-485a-adf6-03e6073ea2a3"
      },
      "execution_count": 2,
      "outputs": [
        {
          "output_type": "stream",
          "name": "stdout",
          "text": [
            "[987, 865, 373464, 468784, 13222222]\n"
          ]
        }
      ]
    },
    {
      "cell_type": "code",
      "source": [
        "arr = [13222222,468784,373464,865,987]\n",
        "for i in range(len(arr)//2):\n",
        "    arr[i],arr[-i-1] = arr[-i-1],arr[i]\n",
        "print(arr)"
      ],
      "metadata": {
        "colab": {
          "base_uri": "https://localhost:8080/"
        },
        "id": "YAV68xVJetmV",
        "outputId": "a5c821d3-8902-40f3-a353-b80cbf04786b"
      },
      "execution_count": 3,
      "outputs": [
        {
          "output_type": "stream",
          "name": "stdout",
          "text": [
            "[987, 865, 373464, 468784, 13222222]\n"
          ]
        }
      ]
    },
    {
      "cell_type": "code",
      "source": [
        "arr = [ 2146,875,46,46,8956,7612]\n",
        "has_dublicates = len(arr) != len(set(arr))\n",
        "print(has_dublicates)"
      ],
      "metadata": {
        "colab": {
          "base_uri": "https://localhost:8080/"
        },
        "id": "cjFM_gafeti3",
        "outputId": "14503a95-b15a-42d2-b5b6-69679cf051b0"
      },
      "execution_count": 4,
      "outputs": [
        {
          "output_type": "stream",
          "name": "stdout",
          "text": [
            "True\n"
          ]
        }
      ]
    },
    {
      "cell_type": "code",
      "source": [
        "arr = [ 2146,46,8956,7612]\n",
        "seen = set()\n",
        "has_duplicate = False\n",
        "for x in arr:\n",
        "    if x in seen:\n",
        "        has_duplicate = True\n",
        "        break\n",
        "    seen.add(x)\n",
        "print(has_duplicate)"
      ],
      "metadata": {
        "colab": {
          "base_uri": "https://localhost:8080/"
        },
        "id": "KlrqFgNpetf3",
        "outputId": "13c6d41c-ee48-470c-fead-9e4e53768c44"
      },
      "execution_count": 17,
      "outputs": [
        {
          "output_type": "stream",
          "name": "stdout",
          "text": [
            "False\n"
          ]
        }
      ]
    },
    {
      "cell_type": "code",
      "source": [],
      "metadata": {
        "id": "m0oHMtYQLhZy"
      },
      "execution_count": null,
      "outputs": []
    },
    {
      "cell_type": "code",
      "source": [],
      "metadata": {
        "id": "PlMygeDxLhVX"
      },
      "execution_count": null,
      "outputs": []
    },
    {
      "cell_type": "code",
      "source": [],
      "metadata": {
        "id": "6ODQB6l5LhQa"
      },
      "execution_count": null,
      "outputs": []
    }
  ]
}