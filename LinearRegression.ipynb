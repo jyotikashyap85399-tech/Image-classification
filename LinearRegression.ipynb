{
  "nbformat": 4,
  "nbformat_minor": 0,
  "metadata": {
    "colab": {
      "provenance": [],
      "mount_file_id": "1PIRES4VrG_IyiySfRA1PsCf9GX1eLjNm",
      "authorship_tag": "ABX9TyNUjA1aCBX3TDcCwhVdBVVn",
      "include_colab_link": true
    },
    "kernelspec": {
      "name": "python3",
      "display_name": "Python 3"
    },
    "language_info": {
      "name": "python"
    }
  },
  "cells": [
    {
      "cell_type": "markdown",
      "metadata": {
        "id": "view-in-github",
        "colab_type": "text"
      },
      "source": [
        "<a href=\"https://colab.research.google.com/github/jyotikashyap85399-tech/Image-classification/blob/main/LinearRegression.ipynb\" target=\"_parent\"><img src=\"https://colab.research.google.com/assets/colab-badge.svg\" alt=\"Open In Colab\"/></a>"
      ]
    },
    {
      "cell_type": "code",
      "execution_count": 72,
      "metadata": {
        "id": "kveB3UpVbtzI"
      },
      "outputs": [],
      "source": [
        "class MeraLR:\n",
        "  def __init__(self):\n",
        "      self.m = None\n",
        "      self.b = None\n",
        "  def fit(self,X_train,y_train):\n",
        "      num = 0\n",
        "      den = 0\n",
        "      for i in range(X_train.shape[0]):\n",
        "          num = num + ((X_train[i] - X_train.mean())*(y_train[i] - y_train.mean()))\n",
        "          den = den + ((X_train[i] - X_train.mean())*(X_train[i] - X_train.mean()))\n",
        "\n",
        "      self.m = num/den\n",
        "      self.b = y_train.mean() - (self.m * X_train.mean())\n",
        "      print(self.m)\n",
        "      print(self.b)\n",
        "\n",
        "  def predict(self,X_test):\n",
        "      print(X_test)\n",
        "      return self.m * X_test + self.b"
      ]
    },
    {
      "cell_type": "code",
      "source": [
        "import numpy as np\n",
        "import pandas as pd"
      ],
      "metadata": {
        "id": "3XjbWHRJcKa0"
      },
      "execution_count": 73,
      "outputs": []
    },
    {
      "cell_type": "code",
      "source": [
        "df = pd.read_csv('/content/drive/MyDrive/Colab Notebooks/placement.csv')"
      ],
      "metadata": {
        "id": "s3P98IDCcKda"
      },
      "execution_count": 74,
      "outputs": []
    },
    {
      "cell_type": "code",
      "source": [
        "df.head()"
      ],
      "metadata": {
        "colab": {
          "base_uri": "https://localhost:8080/",
          "height": 206
        },
        "id": "Iv0d_tufcKfs",
        "outputId": "5ff38fca-29f6-4b8a-d3ed-e078a9ef0581"
      },
      "execution_count": 75,
      "outputs": [
        {
          "output_type": "execute_result",
          "data": {
            "text/plain": [
              "   cgpa  placement_exam_marks  placed\n",
              "0  7.19                  26.0       1\n",
              "1  7.46                  38.0       1\n",
              "2  7.54                  40.0       1\n",
              "3  6.42                   8.0       1\n",
              "4  7.23                  17.0       0"
            ],
            "text/html": [
              "\n",
              "  <div id=\"df-7d68e777-fa83-4a8e-9543-fd523b1e8515\" class=\"colab-df-container\">\n",
              "    <div>\n",
              "<style scoped>\n",
              "    .dataframe tbody tr th:only-of-type {\n",
              "        vertical-align: middle;\n",
              "    }\n",
              "\n",
              "    .dataframe tbody tr th {\n",
              "        vertical-align: top;\n",
              "    }\n",
              "\n",
              "    .dataframe thead th {\n",
              "        text-align: right;\n",
              "    }\n",
              "</style>\n",
              "<table border=\"1\" class=\"dataframe\">\n",
              "  <thead>\n",
              "    <tr style=\"text-align: right;\">\n",
              "      <th></th>\n",
              "      <th>cgpa</th>\n",
              "      <th>placement_exam_marks</th>\n",
              "      <th>placed</th>\n",
              "    </tr>\n",
              "  </thead>\n",
              "  <tbody>\n",
              "    <tr>\n",
              "      <th>0</th>\n",
              "      <td>7.19</td>\n",
              "      <td>26.0</td>\n",
              "      <td>1</td>\n",
              "    </tr>\n",
              "    <tr>\n",
              "      <th>1</th>\n",
              "      <td>7.46</td>\n",
              "      <td>38.0</td>\n",
              "      <td>1</td>\n",
              "    </tr>\n",
              "    <tr>\n",
              "      <th>2</th>\n",
              "      <td>7.54</td>\n",
              "      <td>40.0</td>\n",
              "      <td>1</td>\n",
              "    </tr>\n",
              "    <tr>\n",
              "      <th>3</th>\n",
              "      <td>6.42</td>\n",
              "      <td>8.0</td>\n",
              "      <td>1</td>\n",
              "    </tr>\n",
              "    <tr>\n",
              "      <th>4</th>\n",
              "      <td>7.23</td>\n",
              "      <td>17.0</td>\n",
              "      <td>0</td>\n",
              "    </tr>\n",
              "  </tbody>\n",
              "</table>\n",
              "</div>\n",
              "    <div class=\"colab-df-buttons\">\n",
              "\n",
              "  <div class=\"colab-df-container\">\n",
              "    <button class=\"colab-df-convert\" onclick=\"convertToInteractive('df-7d68e777-fa83-4a8e-9543-fd523b1e8515')\"\n",
              "            title=\"Convert this dataframe to an interactive table.\"\n",
              "            style=\"display:none;\">\n",
              "\n",
              "  <svg xmlns=\"http://www.w3.org/2000/svg\" height=\"24px\" viewBox=\"0 -960 960 960\">\n",
              "    <path d=\"M120-120v-720h720v720H120Zm60-500h600v-160H180v160Zm220 220h160v-160H400v160Zm0 220h160v-160H400v160ZM180-400h160v-160H180v160Zm440 0h160v-160H620v160ZM180-180h160v-160H180v160Zm440 0h160v-160H620v160Z\"/>\n",
              "  </svg>\n",
              "    </button>\n",
              "\n",
              "  <style>\n",
              "    .colab-df-container {\n",
              "      display:flex;\n",
              "      gap: 12px;\n",
              "    }\n",
              "\n",
              "    .colab-df-convert {\n",
              "      background-color: #E8F0FE;\n",
              "      border: none;\n",
              "      border-radius: 50%;\n",
              "      cursor: pointer;\n",
              "      display: none;\n",
              "      fill: #1967D2;\n",
              "      height: 32px;\n",
              "      padding: 0 0 0 0;\n",
              "      width: 32px;\n",
              "    }\n",
              "\n",
              "    .colab-df-convert:hover {\n",
              "      background-color: #E2EBFA;\n",
              "      box-shadow: 0px 1px 2px rgba(60, 64, 67, 0.3), 0px 1px 3px 1px rgba(60, 64, 67, 0.15);\n",
              "      fill: #174EA6;\n",
              "    }\n",
              "\n",
              "    .colab-df-buttons div {\n",
              "      margin-bottom: 4px;\n",
              "    }\n",
              "\n",
              "    [theme=dark] .colab-df-convert {\n",
              "      background-color: #3B4455;\n",
              "      fill: #D2E3FC;\n",
              "    }\n",
              "\n",
              "    [theme=dark] .colab-df-convert:hover {\n",
              "      background-color: #434B5C;\n",
              "      box-shadow: 0px 1px 3px 1px rgba(0, 0, 0, 0.15);\n",
              "      filter: drop-shadow(0px 1px 2px rgba(0, 0, 0, 0.3));\n",
              "      fill: #FFFFFF;\n",
              "    }\n",
              "  </style>\n",
              "\n",
              "    <script>\n",
              "      const buttonEl =\n",
              "        document.querySelector('#df-7d68e777-fa83-4a8e-9543-fd523b1e8515 button.colab-df-convert');\n",
              "      buttonEl.style.display =\n",
              "        google.colab.kernel.accessAllowed ? 'block' : 'none';\n",
              "\n",
              "      async function convertToInteractive(key) {\n",
              "        const element = document.querySelector('#df-7d68e777-fa83-4a8e-9543-fd523b1e8515');\n",
              "        const dataTable =\n",
              "          await google.colab.kernel.invokeFunction('convertToInteractive',\n",
              "                                                    [key], {});\n",
              "        if (!dataTable) return;\n",
              "\n",
              "        const docLinkHtml = 'Like what you see? Visit the ' +\n",
              "          '<a target=\"_blank\" href=https://colab.research.google.com/notebooks/data_table.ipynb>data table notebook</a>'\n",
              "          + ' to learn more about interactive tables.';\n",
              "        element.innerHTML = '';\n",
              "        dataTable['output_type'] = 'display_data';\n",
              "        await google.colab.output.renderOutput(dataTable, element);\n",
              "        const docLink = document.createElement('div');\n",
              "        docLink.innerHTML = docLinkHtml;\n",
              "        element.appendChild(docLink);\n",
              "      }\n",
              "    </script>\n",
              "  </div>\n",
              "\n",
              "\n",
              "    <div id=\"df-7ff0a3a8-c425-4e30-b71f-377fd3c7428c\">\n",
              "      <button class=\"colab-df-quickchart\" onclick=\"quickchart('df-7ff0a3a8-c425-4e30-b71f-377fd3c7428c')\"\n",
              "                title=\"Suggest charts\"\n",
              "                style=\"display:none;\">\n",
              "\n",
              "<svg xmlns=\"http://www.w3.org/2000/svg\" height=\"24px\"viewBox=\"0 0 24 24\"\n",
              "     width=\"24px\">\n",
              "    <g>\n",
              "        <path d=\"M19 3H5c-1.1 0-2 .9-2 2v14c0 1.1.9 2 2 2h14c1.1 0 2-.9 2-2V5c0-1.1-.9-2-2-2zM9 17H7v-7h2v7zm4 0h-2V7h2v10zm4 0h-2v-4h2v4z\"/>\n",
              "    </g>\n",
              "</svg>\n",
              "      </button>\n",
              "\n",
              "<style>\n",
              "  .colab-df-quickchart {\n",
              "      --bg-color: #E8F0FE;\n",
              "      --fill-color: #1967D2;\n",
              "      --hover-bg-color: #E2EBFA;\n",
              "      --hover-fill-color: #174EA6;\n",
              "      --disabled-fill-color: #AAA;\n",
              "      --disabled-bg-color: #DDD;\n",
              "  }\n",
              "\n",
              "  [theme=dark] .colab-df-quickchart {\n",
              "      --bg-color: #3B4455;\n",
              "      --fill-color: #D2E3FC;\n",
              "      --hover-bg-color: #434B5C;\n",
              "      --hover-fill-color: #FFFFFF;\n",
              "      --disabled-bg-color: #3B4455;\n",
              "      --disabled-fill-color: #666;\n",
              "  }\n",
              "\n",
              "  .colab-df-quickchart {\n",
              "    background-color: var(--bg-color);\n",
              "    border: none;\n",
              "    border-radius: 50%;\n",
              "    cursor: pointer;\n",
              "    display: none;\n",
              "    fill: var(--fill-color);\n",
              "    height: 32px;\n",
              "    padding: 0;\n",
              "    width: 32px;\n",
              "  }\n",
              "\n",
              "  .colab-df-quickchart:hover {\n",
              "    background-color: var(--hover-bg-color);\n",
              "    box-shadow: 0 1px 2px rgba(60, 64, 67, 0.3), 0 1px 3px 1px rgba(60, 64, 67, 0.15);\n",
              "    fill: var(--button-hover-fill-color);\n",
              "  }\n",
              "\n",
              "  .colab-df-quickchart-complete:disabled,\n",
              "  .colab-df-quickchart-complete:disabled:hover {\n",
              "    background-color: var(--disabled-bg-color);\n",
              "    fill: var(--disabled-fill-color);\n",
              "    box-shadow: none;\n",
              "  }\n",
              "\n",
              "  .colab-df-spinner {\n",
              "    border: 2px solid var(--fill-color);\n",
              "    border-color: transparent;\n",
              "    border-bottom-color: var(--fill-color);\n",
              "    animation:\n",
              "      spin 1s steps(1) infinite;\n",
              "  }\n",
              "\n",
              "  @keyframes spin {\n",
              "    0% {\n",
              "      border-color: transparent;\n",
              "      border-bottom-color: var(--fill-color);\n",
              "      border-left-color: var(--fill-color);\n",
              "    }\n",
              "    20% {\n",
              "      border-color: transparent;\n",
              "      border-left-color: var(--fill-color);\n",
              "      border-top-color: var(--fill-color);\n",
              "    }\n",
              "    30% {\n",
              "      border-color: transparent;\n",
              "      border-left-color: var(--fill-color);\n",
              "      border-top-color: var(--fill-color);\n",
              "      border-right-color: var(--fill-color);\n",
              "    }\n",
              "    40% {\n",
              "      border-color: transparent;\n",
              "      border-right-color: var(--fill-color);\n",
              "      border-top-color: var(--fill-color);\n",
              "    }\n",
              "    60% {\n",
              "      border-color: transparent;\n",
              "      border-right-color: var(--fill-color);\n",
              "    }\n",
              "    80% {\n",
              "      border-color: transparent;\n",
              "      border-right-color: var(--fill-color);\n",
              "      border-bottom-color: var(--fill-color);\n",
              "    }\n",
              "    90% {\n",
              "      border-color: transparent;\n",
              "      border-bottom-color: var(--fill-color);\n",
              "    }\n",
              "  }\n",
              "</style>\n",
              "\n",
              "      <script>\n",
              "        async function quickchart(key) {\n",
              "          const quickchartButtonEl =\n",
              "            document.querySelector('#' + key + ' button');\n",
              "          quickchartButtonEl.disabled = true;  // To prevent multiple clicks.\n",
              "          quickchartButtonEl.classList.add('colab-df-spinner');\n",
              "          try {\n",
              "            const charts = await google.colab.kernel.invokeFunction(\n",
              "                'suggestCharts', [key], {});\n",
              "          } catch (error) {\n",
              "            console.error('Error during call to suggestCharts:', error);\n",
              "          }\n",
              "          quickchartButtonEl.classList.remove('colab-df-spinner');\n",
              "          quickchartButtonEl.classList.add('colab-df-quickchart-complete');\n",
              "        }\n",
              "        (() => {\n",
              "          let quickchartButtonEl =\n",
              "            document.querySelector('#df-7ff0a3a8-c425-4e30-b71f-377fd3c7428c button');\n",
              "          quickchartButtonEl.style.display =\n",
              "            google.colab.kernel.accessAllowed ? 'block' : 'none';\n",
              "        })();\n",
              "      </script>\n",
              "    </div>\n",
              "\n",
              "    </div>\n",
              "  </div>\n"
            ],
            "application/vnd.google.colaboratory.intrinsic+json": {
              "type": "dataframe",
              "variable_name": "df",
              "summary": "{\n  \"name\": \"df\",\n  \"rows\": 1000,\n  \"fields\": [\n    {\n      \"column\": \"cgpa\",\n      \"properties\": {\n        \"dtype\": \"number\",\n        \"std\": 0.6158978751323894,\n        \"min\": 4.89,\n        \"max\": 9.12,\n        \"num_unique_values\": 261,\n        \"samples\": [\n          8.15,\n          7.03,\n          5.82\n        ],\n        \"semantic_type\": \"\",\n        \"description\": \"\"\n      }\n    },\n    {\n      \"column\": \"placement_exam_marks\",\n      \"properties\": {\n        \"dtype\": \"number\",\n        \"std\": 19.13082233892108,\n        \"min\": 0.0,\n        \"max\": 100.0,\n        \"num_unique_values\": 89,\n        \"samples\": [\n          6.0,\n          93.0,\n          55.0\n        ],\n        \"semantic_type\": \"\",\n        \"description\": \"\"\n      }\n    },\n    {\n      \"column\": \"placed\",\n      \"properties\": {\n        \"dtype\": \"number\",\n        \"std\": 0,\n        \"min\": 0,\n        \"max\": 1,\n        \"num_unique_values\": 2,\n        \"samples\": [\n          0,\n          1\n        ],\n        \"semantic_type\": \"\",\n        \"description\": \"\"\n      }\n    }\n  ]\n}"
            }
          },
          "metadata": {},
          "execution_count": 75
        }
      ]
    },
    {
      "cell_type": "code",
      "source": [
        " X = df.iloc[:,0].values\n",
        " y = df.iloc[:,1].values"
      ],
      "metadata": {
        "id": "Adekf8rGcKia"
      },
      "execution_count": 76,
      "outputs": []
    },
    {
      "cell_type": "code",
      "source": [
        "X"
      ],
      "metadata": {
        "colab": {
          "base_uri": "https://localhost:8080/"
        },
        "id": "dcJrBzeIcKkz",
        "outputId": "639a0860-5120-4d65-a001-9dd922b5d8b8"
      },
      "execution_count": 77,
      "outputs": [
        {
          "output_type": "execute_result",
          "data": {
            "text/plain": [
              "array([7.19, 7.46, 7.54, 6.42, 7.23, 7.3 , 6.69, 7.12, 6.45, 7.75, 6.82,\n",
              "       6.38, 6.58, 5.68, 7.91, 7.1 , 6.53, 7.56, 6.93, 7.63, 6.69, 7.43,\n",
              "       6.76, 6.05, 6.44, 6.28, 7.45, 6.53, 7.23, 6.51, 7.46, 7.66, 5.91,\n",
              "       6.23, 8.15, 7.48, 6.85, 8.51, 6.58, 7.25, 6.6 , 6.7 , 7.46, 7.85,\n",
              "       7.88, 6.92, 7.3 , 6.92, 6.29, 8.23, 6.2 , 6.24, 7.53, 6.69, 8.42,\n",
              "       8.12, 6.93, 7.73, 7.34, 7.7 , 7.94, 7.51, 7.61, 6.22, 6.98, 6.27,\n",
              "       6.67, 8.04, 6.58, 7.41, 6.98, 6.13, 7.9 , 6.39, 6.16, 6.77, 8.35,\n",
              "       7.1 , 8.2 , 7.63, 6.87, 7.12, 7.22, 7.38, 5.65, 6.03, 7.19, 6.96,\n",
              "       6.78, 6.56, 7.61, 7.42, 6.48, 7.  , 7.15, 6.89, 7.09, 7.33, 8.12,\n",
              "       7.46, 6.56, 6.48, 5.92, 6.44, 6.82, 6.72, 6.59, 7.32, 5.94, 7.23,\n",
              "       6.96, 6.48, 7.23, 7.24, 6.3 , 7.28, 7.16, 7.11, 6.9 , 7.  , 6.99,\n",
              "       5.91, 5.97, 6.25, 6.2 , 7.46, 7.16, 6.95, 6.76, 6.81, 5.91, 8.19,\n",
              "       7.71, 7.65, 6.33, 6.63, 7.28, 5.69, 7.53, 8.09, 6.85, 7.19, 7.66,\n",
              "       6.32, 6.67, 7.08, 6.75, 6.68, 6.86, 6.81, 8.53, 7.29, 7.78, 6.29,\n",
              "       7.57, 7.84, 6.4 , 7.07, 5.74, 6.7 , 7.36, 6.26, 7.8 , 6.77, 6.29,\n",
              "       7.53, 7.76, 6.65, 6.51, 6.19, 6.17, 6.2 , 7.24, 6.71, 7.31, 7.57,\n",
              "       7.72, 6.22, 7.51, 6.4 , 7.18, 7.3 , 6.87, 6.11, 7.78, 7.3 , 6.97,\n",
              "       6.63, 5.92, 6.63, 7.54, 6.63, 6.67, 6.31, 8.19, 6.71, 7.28, 6.75,\n",
              "       8.29, 7.43, 5.77, 6.67, 6.51, 7.93, 7.01, 6.99, 7.5 , 7.05, 7.25,\n",
              "       6.88, 6.58, 7.36, 6.23, 6.62, 7.42, 7.72, 5.42, 6.92, 6.62, 5.48,\n",
              "       7.75, 6.78, 6.97, 6.15, 7.15, 7.36, 6.79, 7.03, 7.61, 6.68, 7.12,\n",
              "       6.4 , 7.77, 7.25, 8.09, 7.2 , 7.7 , 7.14, 7.41, 6.71, 7.25, 7.22,\n",
              "       5.99, 6.78, 7.68, 6.78, 7.67, 6.25, 6.9 , 7.46, 7.4 , 6.46, 6.24,\n",
              "       6.98, 6.7 , 7.76, 7.37, 5.74, 6.12, 7.16, 5.66, 7.17, 7.19, 8.11,\n",
              "       7.82, 6.94, 7.73, 6.  , 7.38, 6.47, 6.8 , 7.64, 6.23, 7.  , 7.13,\n",
              "       8.03, 6.96, 6.45, 5.23, 8.49, 6.62, 7.68, 6.43, 7.09, 6.99, 7.42,\n",
              "       6.29, 6.24, 7.07, 6.73, 8.38, 7.46, 5.82, 6.97, 6.12, 6.02, 6.99,\n",
              "       7.03, 6.16, 6.75, 7.36, 7.84, 7.95, 7.35, 7.12, 6.67, 6.86, 7.47,\n",
              "       7.2 , 7.46, 5.56, 6.97, 7.02, 6.51, 7.43, 7.96, 7.07, 7.47, 6.74,\n",
              "       7.53, 7.18, 6.82, 6.77, 6.6 , 6.64, 6.65, 7.54, 8.21, 7.4 , 7.3 ,\n",
              "       6.68, 6.12, 7.03, 6.74, 6.56, 6.9 , 7.93, 6.95, 7.45, 7.32, 7.45,\n",
              "       7.41, 6.37, 7.2 , 7.2 , 6.26, 7.31, 7.24, 6.13, 8.12, 7.21, 6.92,\n",
              "       6.51, 6.82, 6.73, 6.42, 5.91, 7.92, 6.74, 7.61, 7.24, 6.37, 7.25,\n",
              "       7.61, 6.87, 7.07, 6.78, 6.41, 7.09, 6.69, 5.7 , 5.9 , 5.95, 5.58,\n",
              "       7.34, 7.31, 6.25, 6.7 , 7.27, 7.37, 7.12, 6.17, 7.55, 7.26, 7.03,\n",
              "       7.33, 7.63, 7.25, 7.28, 5.9 , 6.63, 7.77, 6.76, 6.6 , 7.94, 7.29,\n",
              "       7.28, 7.55, 7.55, 5.74, 6.  , 6.74, 6.08, 6.71, 8.02, 6.6 , 7.14,\n",
              "       8.23, 7.8 , 6.92, 7.36, 6.04, 6.5 , 6.65, 7.3 , 6.37, 7.51, 6.9 ,\n",
              "       6.3 , 6.22, 7.59, 6.29, 7.09, 8.27, 6.91, 7.45, 7.26, 6.17, 7.89,\n",
              "       7.35, 7.22, 7.64, 6.67, 5.77, 7.01, 7.45, 6.31, 6.73, 7.31, 6.67,\n",
              "       8.56, 7.8 , 7.08, 6.92, 6.66, 5.56, 6.6 , 6.5 , 6.32, 6.21, 6.44,\n",
              "       5.94, 6.59, 7.31, 7.13, 6.92, 6.76, 6.58, 7.13, 6.62, 6.91, 7.39,\n",
              "       6.71, 6.82, 6.28, 7.65, 6.45, 6.65, 6.73, 5.86, 6.46, 5.48, 6.19,\n",
              "       6.38, 7.11, 7.38, 6.83, 5.78, 7.32, 6.38, 6.8 , 7.33, 7.56, 7.93,\n",
              "       5.81, 4.92, 7.67, 6.95, 6.75, 7.24, 7.34, 7.77, 8.5 , 6.8 , 6.83,\n",
              "       6.95, 7.52, 6.8 , 6.89, 6.42, 6.07, 6.52, 7.18, 6.97, 7.24, 6.48,\n",
              "       7.84, 6.77, 6.41, 7.83, 6.84, 7.53, 7.08, 6.43, 7.36, 7.75, 6.83,\n",
              "       6.37, 7.53, 6.6 , 7.39, 5.72, 6.71, 6.13, 6.85, 6.33, 7.12, 7.72,\n",
              "       6.9 , 7.19, 6.28, 7.  , 6.9 , 7.19, 6.05, 6.49, 6.87, 7.13, 7.58,\n",
              "       6.79, 6.37, 6.11, 7.06, 7.48, 7.11, 6.35, 6.75, 7.33, 7.48, 7.37,\n",
              "       6.62, 6.55, 6.4 , 7.46, 6.84, 6.46, 6.7 , 6.47, 7.28, 6.61, 7.11,\n",
              "       7.07, 6.06, 6.81, 7.17, 6.61, 6.03, 6.18, 8.13, 7.08, 7.04, 6.47,\n",
              "       7.66, 7.23, 6.54, 7.55, 6.12, 6.85, 7.52, 7.13, 7.9 , 6.57, 7.05,\n",
              "       7.1 , 6.57, 7.85, 6.58, 7.58, 6.38, 6.6 , 6.68, 7.89, 7.09, 6.55,\n",
              "       6.95, 6.13, 8.48, 7.85, 7.59, 7.02, 6.24, 6.89, 7.16, 6.55, 6.89,\n",
              "       6.64, 6.79, 7.76, 7.33, 6.55, 7.32, 7.2 , 6.14, 6.66, 8.05, 6.51,\n",
              "       7.09, 7.08, 6.7 , 6.81, 7.07, 7.85, 7.4 , 7.35, 7.35, 7.6 , 7.63,\n",
              "       6.31, 7.12, 8.15, 6.56, 7.26, 6.37, 6.63, 7.69, 6.69, 6.39, 7.25,\n",
              "       7.46, 6.42, 6.36, 7.49, 7.89, 7.59, 7.65, 6.75, 7.38, 6.69, 7.15,\n",
              "       7.6 , 6.19, 6.57, 7.6 , 6.93, 7.03, 7.36, 7.39, 7.6 , 7.57, 6.68,\n",
              "       5.97, 5.72, 7.38, 7.05, 7.23, 6.16, 7.64, 7.17, 7.24, 6.94, 7.51,\n",
              "       7.45, 7.75, 6.87, 6.73, 6.1 , 6.73, 6.75, 6.65, 6.7 , 7.35, 6.78,\n",
              "       6.34, 6.5 , 8.02, 6.05, 7.15, 6.81, 6.59, 8.02, 7.01, 7.32, 6.95,\n",
              "       6.64, 7.12, 6.75, 6.94, 7.23, 7.27, 6.64, 6.82, 6.74, 6.24, 7.04,\n",
              "       6.91, 6.55, 7.11, 6.86, 7.91, 6.97, 7.56, 6.97, 6.35, 7.8 , 7.06,\n",
              "       7.41, 7.06, 6.49, 7.12, 7.17, 6.87, 6.98, 6.86, 7.35, 7.95, 6.34,\n",
              "       7.93, 7.  , 6.63, 6.79, 6.14, 6.74, 7.26, 7.07, 6.77, 7.23, 6.86,\n",
              "       6.52, 7.04, 6.34, 6.21, 7.58, 6.79, 7.62, 7.49, 6.82, 6.72, 6.26,\n",
              "       7.02, 7.31, 6.43, 6.69, 7.37, 6.87, 7.91, 6.94, 7.41, 6.84, 6.55,\n",
              "       6.55, 7.13, 8.02, 6.79, 7.16, 6.47, 6.55, 7.17, 7.33, 6.55, 6.68,\n",
              "       7.33, 7.31, 6.63, 8.06, 6.93, 6.76, 7.08, 7.67, 6.98, 6.39, 5.62,\n",
              "       7.17, 7.65, 6.23, 6.19, 6.07, 7.5 , 7.02, 6.54, 6.46, 7.48, 7.65,\n",
              "       7.92, 7.23, 6.24, 7.  , 6.02, 8.14, 5.86, 6.89, 6.5 , 6.31, 6.1 ,\n",
              "       7.19, 6.49, 6.23, 6.39, 7.16, 7.68, 6.39, 7.14, 8.04, 5.99, 7.43,\n",
              "       7.78, 5.27, 7.19, 7.84, 5.52, 6.93, 6.27, 6.1 , 7.33, 6.67, 7.48,\n",
              "       6.3 , 7.05, 6.46, 6.44, 6.87, 6.46, 6.81, 6.91, 7.29, 6.22, 6.67,\n",
              "       7.09, 6.65, 6.84, 6.44, 6.89, 7.45, 7.33, 6.31, 7.62, 5.98, 6.99,\n",
              "       7.2 , 7.2 , 7.89, 8.39, 6.29, 6.54, 7.74, 5.83, 7.89, 7.52, 5.72,\n",
              "       7.51, 6.52, 7.51, 6.32, 6.04, 8.04, 6.32, 6.77, 7.29, 8.04, 7.33,\n",
              "       5.51, 6.67, 6.56, 6.95, 7.9 , 6.6 , 5.73, 6.33, 6.32, 6.98, 6.83,\n",
              "       6.4 , 7.72, 7.25, 7.98, 7.11, 7.13, 7.22, 7.19, 7.62, 7.39, 7.73,\n",
              "       7.42, 5.96, 7.07, 6.5 , 7.82, 5.73, 7.13, 7.14, 7.62, 6.08, 7.1 ,\n",
              "       7.03, 7.56, 7.36, 7.08, 7.56, 7.03, 6.06, 6.57, 7.82, 7.45, 7.48,\n",
              "       6.78, 6.97, 6.88, 6.88, 5.95, 7.09, 6.59, 7.97, 6.91, 7.68, 6.52,\n",
              "       6.85, 6.91, 7.02, 7.37, 6.63, 6.89, 6.94, 7.19, 6.89, 6.01, 7.15,\n",
              "       8.12, 7.32, 6.42, 6.27, 6.98, 6.16, 7.18, 7.03, 7.36, 7.21, 6.71,\n",
              "       7.95, 6.49, 6.38, 7.94, 6.65, 7.52, 7.71, 6.91, 8.  , 7.2 , 6.86,\n",
              "       6.51, 7.43, 6.76, 6.81, 7.65, 7.09, 6.74, 8.09, 7.37, 6.24, 7.35,\n",
              "       6.84, 6.86, 7.28, 6.69, 7.02, 6.1 , 6.42, 8.43, 6.96, 7.18, 6.78,\n",
              "       7.  , 6.18, 8.06, 6.87, 6.81, 6.89, 7.1 , 7.09, 6.77, 5.64, 6.23,\n",
              "       6.17, 7.04, 6.26, 6.73, 6.48, 8.87, 9.12, 4.89, 8.62, 4.9 ])"
            ]
          },
          "metadata": {},
          "execution_count": 77
        }
      ]
    },
    {
      "cell_type": "code",
      "source": [
        "y"
      ],
      "metadata": {
        "colab": {
          "base_uri": "https://localhost:8080/"
        },
        "id": "VI6Bf3cScKnN",
        "outputId": "3b766dc6-5293-4099-caa2-c884992039c4"
      },
      "execution_count": 78,
      "outputs": [
        {
          "output_type": "execute_result",
          "data": {
            "text/plain": [
              "array([ 26.,  38.,  40.,   8.,  17.,  23.,  11.,  39.,  38.,  94.,  16.,\n",
              "         7.,  16.,  26.,  43.,  21.,  19.,  22.,  27.,  29.,  47.,  33.,\n",
              "        54.,  11.,  11.,  58.,   8.,  46.,  19.,  15.,  16.,  44.,  11.,\n",
              "        27.,   9.,  12.,  16.,   9.,  20.,  17.,  86.,  38.,  71.,  63.,\n",
              "        55.,  10.,  15.,  46.,  42.,  28.,  18.,  28.,  27.,  33.,  36.,\n",
              "        15.,  15.,  24.,  43.,  32.,  31.,  86.,  22.,  26.,  52.,  28.,\n",
              "        31.,  18.,  30.,  44.,  17.,  20.,  19.,  12.,   3.,  56.,  12.,\n",
              "        28.,  12.,  19.,  46.,  44.,  12.,  20.,  35.,  28.,  22.,  19.,\n",
              "        39.,  17.,  15.,   6.,  63.,  30.,  21.,  35.,  28.,  52.,  76.,\n",
              "        23.,  46.,  26.,  22.,  18.,  47.,  12.,  22.,   9.,  10.,  21.,\n",
              "        31.,  33.,  15.,  10.,  77.,  37.,  21.,   0.,  54.,  39.,  46.,\n",
              "        27.,  51.,  52.,  30.,  55.,  37.,  23.,  25.,  39.,  53.,  19.,\n",
              "        18.,  64.,  93.,  47.,  15.,  53.,   8.,   5.,  22.,  18.,  41.,\n",
              "        33.,  17.,  28.,  22.,  11.,  49.,  58.,  22.,  16.,  56.,  10.,\n",
              "        54.,  12.,  34.,  81.,  50.,  22.,  10.,  52.,  90.,  42.,  34.,\n",
              "         7.,  59.,  48.,  37.,  16.,  37.,  38.,  43.,  48.,  21.,  26.,\n",
              "        30.,  40.,  39.,  45.,  29.,  42.,  76.,  18.,  33.,  31.,  63.,\n",
              "        10.,  55.,   9.,  23.,   8.,  38.,  14.,  33.,  44.,  34.,  27.,\n",
              "        44.,  25.,  22.,  15.,  48.,  52.,   5.,  47.,  25.,  16.,  12.,\n",
              "        35.,  19.,  14.,  57.,  19.,  60.,  22.,  36.,  16.,  52.,   3.,\n",
              "        16.,  24.,  78.,  11.,  19.,  13.,  21.,  19.,  15.,  13.,  14.,\n",
              "        35.,  34.,  41.,  36.,  52.,  36.,  52.,  78.,  16.,  38.,  18.,\n",
              "        44.,  55.,  44.,  62.,  26.,  49.,  44.,  52.,  13.,  45.,  54.,\n",
              "        76.,  64.,  10.,  48.,  76.,   6.,  10.,  57.,  11.,  10.,  50.,\n",
              "        28.,  57.,  50.,  65.,  21.,  16.,  16.,  21.,  56.,   9.,   4.,\n",
              "        39.,  46.,  15.,  17.,  40.,  55.,  22.,  44.,  87.,  62.,  57.,\n",
              "        58.,  24.,  21.,   9.,  87.,  14.,  41.,  11.,  17.,  64.,  19.,\n",
              "        32.,  48.,  15.,  52.,   5.,  34.,  56.,  33.,  32.,  19.,  28.,\n",
              "        47.,  31.,  50.,  87.,  55.,  18.,  14.,  37.,  38.,  19.,  60.,\n",
              "        13.,  51.,  47.,  38.,  38.,  90.,  13.,  13.,  56.,  28.,  35.,\n",
              "        16.,  22.,  39.,  20.,  19.,  17.,   9.,  68.,  46.,  18.,  51.,\n",
              "         8.,  23.,  70.,  26.,  13.,  33.,  34.,  17.,  16.,  70.,  10.,\n",
              "         4.,  28.,  23.,  18.,  50.,  42.,  52.,  40.,  33.,  37.,  21.,\n",
              "        13.,   9.,  25.,  42.,  30.,  32.,  36.,  79.,  29.,   8.,  41.,\n",
              "        41.,  31.,  60.,  47.,  25.,  65.,  31.,  53.,  61.,   4.,  33.,\n",
              "        21.,  43.,   7.,  23.,  16.,  16.,  66.,  35.,  18.,  18.,  11.,\n",
              "        10.,  63.,  48.,  43.,  33.,  22.,  34.,  83.,  35.,  32.,  17.,\n",
              "        20.,  24.,  24.,  37.,  66.,  45.,  28.,  36.,  46.,  55.,  19.,\n",
              "        29.,  46.,  49.,  46.,  19.,  26.,  30.,  15.,  21.,  39.,  46.,\n",
              "        55.,  19.,  21.,  26.,  11.,   5.,  37.,  19.,  22.,   7.,  10.,\n",
              "        22.,  15.,  48.,  77.,  14.,  10.,  23.,  17.,  31.,  37.,  31.,\n",
              "        31.,  42.,  24.,  53.,  43.,  12.,  20.,  47.,  79.,   4.,  12.,\n",
              "         9.,  49.,  37.,  49.,  16.,   7.,  70.,  46.,  28.,  18.,  38.,\n",
              "        25.,  25.,  10.,  34.,  18.,  36.,  33.,  37.,  32.,   8.,  25.,\n",
              "        18.,  44.,  65.,  13.,  43.,  50.,  32.,  49.,  21.,  18.,  51.,\n",
              "        64.,  35.,  37.,  14.,  31.,  24.,  31.,  50.,  10.,  25.,  18.,\n",
              "         8.,  75.,  14.,  48.,  34.,  50.,   9.,  46.,  15.,  44.,  28.,\n",
              "        38.,  22.,   8.,  20.,  37.,  63.,  19.,  21.,  17.,  34.,  37.,\n",
              "        38.,  34.,  18.,  81.,  20.,  15.,  45.,  62.,  48.,   9.,  27.,\n",
              "        14.,  63.,  18.,  22.,  16.,  14.,  17.,  18.,  39.,  30.,  79.,\n",
              "        38.,  66.,  24.,  17.,   9.,  32.,  15.,  25.,  14.,  58.,  67.,\n",
              "        58.,  23.,  14.,  34.,  54.,  25.,  36.,   4.,  30.,  18.,  66.,\n",
              "        37.,  54.,  33.,  16.,   8.,  24.,  47.,  13.,  63.,  25.,  27.,\n",
              "        68.,  60.,  49.,  15.,  14.,  25.,  16.,  22.,  35.,  27.,  62.,\n",
              "        64.,   7.,  25.,  32.,  27.,  55.,  38.,  17.,  32.,  54.,  40.,\n",
              "        42.,  24.,  49.,  16.,   4.,  61.,  19.,  60.,  55.,  41.,  12.,\n",
              "        33.,  22.,  22.,  43.,  18.,  28.,  19.,  14.,  80.,  30.,  19.,\n",
              "        30.,   9.,  11.,  96.,  16.,  13.,  39.,  39.,  10.,  43.,  74.,\n",
              "        74.,  43.,  61.,  22.,  39.,  28.,  29.,  36.,  45.,   4.,  24.,\n",
              "        65.,  27.,  39.,  43.,  48.,  76.,  34.,  72.,  23.,   9.,  37.,\n",
              "        26.,  47.,  15.,  31.,  34.,  10.,  27.,  54.,  47.,   8.,  17.,\n",
              "        31.,  13.,  20.,  31.,  20.,  21.,  24.,  34.,  35.,  15.,  10.,\n",
              "        17.,  69.,  67.,  87.,  62.,  23.,  36.,  67.,  26.,  14.,  43.,\n",
              "        42.,  51.,  11.,  20.,  49.,  16.,  20.,  16.,   2.,  39.,  41.,\n",
              "        45.,  35.,  13.,  11.,  50.,  42.,   6.,  30.,   8.,  24.,  19.,\n",
              "        17.,  19.,  21.,  36.,  26.,  43.,  11.,  29.,  10.,  21.,  10.,\n",
              "        25.,  30.,  23.,  58.,  90.,   5.,  55.,  10.,  50.,  39.,  24.,\n",
              "        12.,  17.,  39.,  74.,  66.,  29.,  15.,  58.,  13.,  25.,  18.,\n",
              "         9.,  61.,   8.,  20.,  35.,  42.,  17.,  26.,  30.,  15.,  29.,\n",
              "        22.,  48.,   6.,  14.,  59.,  70.,  28.,  34.,  31.,  63.,  18.,\n",
              "        67.,  86.,  26.,  79.,  69.,  24.,  30.,  23.,  34.,  32.,  31.,\n",
              "        49.,  41.,  24.,  19.,  29.,  10.,   9.,  19.,  74.,  47.,  12.,\n",
              "        32.,   9.,  17.,   9.,  60.,  20.,  56.,  53.,  28.,  14.,  16.,\n",
              "        20.,  81.,  13.,  15.,  19.,  31.,  22.,  21.,  14.,  23.,  52.,\n",
              "        17.,  43.,  23.,  26.,  62.,  10.,  16.,   9.,  32.,  18.,  27.,\n",
              "        23.,  32.,  21.,  63.,  37.,  28.,  55.,  59.,  23.,  52.,  65.,\n",
              "        33.,  24.,  32.,  24.,  22.,  27.,  14.,  60.,  18.,  36.,  97.,\n",
              "        54.,  27.,   8.,  37.,  17.,  43.,  22.,  68.,   9.,   6.,  64.,\n",
              "        26.,  22.,  21.,  28.,  37.,   2.,   5.,  16.,  35.,  26.,  36.,\n",
              "        58.,  15.,  60.,  54.,  42.,  24.,  16.,  20.,   9.,  34.,  31.,\n",
              "        13.,  42.,  35.,   6.,   4.,  16.,  17.,  17.,  23.,  38.,  30.,\n",
              "        26.,  18.,  32.,  16.,  35.,  38.,  35.,  18.,   8.,  19.,  50.,\n",
              "        42.,  28.,  32.,  29.,  34.,  44.,  17.,  11.,  29.,  36.,  38.,\n",
              "         7.,  25.,  34.,  11., 100.,   9.,  21.,  52.,  38.,  23.,  10.,\n",
              "        23.,  56.,  14.,  52.,  32.,  25.,   7.,  33.,  71.,   9.,   9.,\n",
              "        37.,  20.,  34.,  24.,  41.,  38.,   8.,   6.,   2.,  21.,  26.,\n",
              "        12.,  70.,  15.,  11.,  33.,  48.,  25.,  44.,  39.,  26.,  21.,\n",
              "        27.,  11.,  27.,  10.,   9.,  46.,   8.,  54.,  52.,  72.,  59.,\n",
              "        26.,  41.,  42.,  18.,  18.,  37.,  38.,  25.,  48.,  49.,  12.,\n",
              "        13.,  27.,  37.,  22.,  11.,  16.,  26.,  19.,  62.,  37.,  31.,\n",
              "        33.,  57.,  12.,  21.,  63.,  44.,  65.,  34.,  46.,  10.])"
            ]
          },
          "metadata": {},
          "execution_count": 78
        }
      ]
    },
    {
      "cell_type": "code",
      "source": [
        "from sklearn.model_selection import train_test_split\n",
        "X_train,X_test,y_train,y_test = train_test_split(X,y,test_size=0.2,random_state=2)"
      ],
      "metadata": {
        "id": "Bf6oiuxzcKpz"
      },
      "execution_count": 79,
      "outputs": []
    },
    {
      "cell_type": "code",
      "source": [
        "X_train.shape"
      ],
      "metadata": {
        "colab": {
          "base_uri": "https://localhost:8080/"
        },
        "id": "zCMzr3uEcKsd",
        "outputId": "65117b97-d45e-4aa3-c5d9-28dc56a5a358"
      },
      "execution_count": 80,
      "outputs": [
        {
          "output_type": "execute_result",
          "data": {
            "text/plain": [
              "(800,)"
            ]
          },
          "metadata": {},
          "execution_count": 80
        }
      ]
    },
    {
      "cell_type": "code",
      "source": [
        "lr = MeraLR()"
      ],
      "metadata": {
        "id": "G9-D5DGpcKvD"
      },
      "execution_count": 81,
      "outputs": []
    },
    {
      "cell_type": "code",
      "source": [
        "lr.fit(X_train,y_train)"
      ],
      "metadata": {
        "colab": {
          "base_uri": "https://localhost:8080/"
        },
        "id": "W-Poo3kpcKw2",
        "outputId": "ade180aa-e14e-40db-dc64-6a3fdd67a791"
      },
      "execution_count": 82,
      "outputs": [
        {
          "output_type": "stream",
          "name": "stdout",
          "text": [
            "-0.26502454516087415\n",
            "33.97578341892782\n"
          ]
        }
      ]
    },
    {
      "cell_type": "code",
      "source": [
        "X_train[0]"
      ],
      "metadata": {
        "colab": {
          "base_uri": "https://localhost:8080/"
        },
        "id": "iNSOYHJbcKza",
        "outputId": "56bf3888-335b-41ba-8864-7bc3374d853d"
      },
      "execution_count": 83,
      "outputs": [
        {
          "output_type": "execute_result",
          "data": {
            "text/plain": [
              "np.float64(7.57)"
            ]
          },
          "metadata": {},
          "execution_count": 83
        }
      ]
    },
    {
      "cell_type": "code",
      "source": [
        "X_train.mean()"
      ],
      "metadata": {
        "colab": {
          "base_uri": "https://localhost:8080/"
        },
        "id": "jypy4oBFg9Ok",
        "outputId": "7917647f-7967-49dc-83d5-067937289fd8"
      },
      "execution_count": 84,
      "outputs": [
        {
          "output_type": "execute_result",
          "data": {
            "text/plain": [
              "np.float64(6.978725)"
            ]
          },
          "metadata": {},
          "execution_count": 84
        }
      ]
    },
    {
      "cell_type": "code",
      "source": [
        "X_test[0]"
      ],
      "metadata": {
        "colab": {
          "base_uri": "https://localhost:8080/"
        },
        "id": "RgURiDMbg9SA",
        "outputId": "cdf06d79-5b86-4c90-b15f-df03a1f509ec"
      },
      "execution_count": 85,
      "outputs": [
        {
          "output_type": "execute_result",
          "data": {
            "text/plain": [
              "np.float64(8.51)"
            ]
          },
          "metadata": {},
          "execution_count": 85
        }
      ]
    },
    {
      "cell_type": "code",
      "source": [
        "lr.predict(X_test[0])"
      ],
      "metadata": {
        "colab": {
          "base_uri": "https://localhost:8080/"
        },
        "id": "Hp5JA99kcK2x",
        "outputId": "5a7c03e5-c520-404b-9b5e-185471a3c758"
      },
      "execution_count": 86,
      "outputs": [
        {
          "output_type": "stream",
          "name": "stdout",
          "text": [
            "8.51\n"
          ]
        },
        {
          "output_type": "execute_result",
          "data": {
            "text/plain": [
              "np.float64(31.72042453960878)"
            ]
          },
          "metadata": {},
          "execution_count": 86
        }
      ]
    },
    {
      "cell_type": "code",
      "source": [],
      "metadata": {
        "id": "1tOhEw-Hktij"
      },
      "execution_count": 86,
      "outputs": []
    }
  ]
}